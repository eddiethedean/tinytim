{
 "cells": [
  {
   "cell_type": "markdown",
   "id": "25cc1bfc",
   "metadata": {},
   "source": [
    "### data is in {column name: column values} format - Mapping[str, Sequence]"
   ]
  },
  {
   "cell_type": "code",
   "execution_count": 1,
   "id": "7c5aab82",
   "metadata": {},
   "outputs": [],
   "source": [
    "data = {'Animal': ['Falcon', 'Falcon', 'Parrot', 'Parrot'],\n",
    "        'Color': ['Brown', 'Brown', 'Blue', 'Red'],\n",
    "        'Max Speed': [380, 370, 24, 26]}"
   ]
  },
  {
   "cell_type": "markdown",
   "id": "1020e182",
   "metadata": {},
   "source": [
    "### Group data by a column."
   ]
  },
  {
   "cell_type": "code",
   "execution_count": 2,
   "id": "b33aaa6e",
   "metadata": {},
   "outputs": [
    {
     "data": {
      "text/plain": [
       "[('Falcon',\n",
       "  {'Animal': ['Falcon', 'Falcon'],\n",
       "   'Color': ['Brown', 'Brown'],\n",
       "   'Max Speed': [380, 370]}),\n",
       " ('Parrot',\n",
       "  {'Animal': ['Parrot', 'Parrot'],\n",
       "   'Color': ['Blue', 'Red'],\n",
       "   'Max Speed': [24, 26]})]"
      ]
     },
     "execution_count": 2,
     "metadata": {},
     "output_type": "execute_result"
    }
   ],
   "source": [
    "from tinytim.group import groupby\n",
    "\n",
    "groupby(data, 'Animal')"
   ]
  },
  {
   "cell_type": "markdown",
   "id": "147432f0",
   "metadata": {},
   "source": [
    "### Group data by sequence of columns."
   ]
  },
  {
   "cell_type": "code",
   "execution_count": 3,
   "id": "1cac0f6c",
   "metadata": {},
   "outputs": [
    {
     "data": {
      "text/plain": [
       "[(('Falcon', 'Brown'),\n",
       "  {'Animal': ['Falcon', 'Falcon'],\n",
       "   'Color': ['Brown', 'Brown'],\n",
       "   'Max Speed': [380, 370]}),\n",
       " (('Parrot', 'Blue'),\n",
       "  {'Animal': ['Parrot'], 'Color': ['Blue'], 'Max Speed': [24]}),\n",
       " (('Parrot', 'Red'),\n",
       "  {'Animal': ['Parrot'], 'Color': ['Red'], 'Max Speed': [26]})]"
      ]
     },
     "execution_count": 3,
     "metadata": {},
     "output_type": "execute_result"
    }
   ],
   "source": [
    "groupby(data, ['Animal', 'Color'])"
   ]
  },
  {
   "cell_type": "markdown",
   "id": "9c6f24c3",
   "metadata": {},
   "source": [
    "## The following functions aggregate the groups together\n",
    "## They return tuple of groupby values and aggregate values."
   ]
  },
  {
   "cell_type": "markdown",
   "id": "a3b840b9",
   "metadata": {},
   "source": [
    "### Sum groups together"
   ]
  },
  {
   "cell_type": "code",
   "execution_count": 4,
   "id": "905c4191",
   "metadata": {},
   "outputs": [
    {
     "data": {
      "text/plain": [
       "(['Falcon', 'Parrot'], {'Max Speed': [750, 50]})"
      ]
     },
     "execution_count": 4,
     "metadata": {},
     "output_type": "execute_result"
    }
   ],
   "source": [
    "from tinytim.group import sum_groups\n",
    "\n",
    "groups = groupby(data, 'Animal')\n",
    "sum_groups(groups)"
   ]
  },
  {
   "cell_type": "markdown",
   "id": "26fe3d22",
   "metadata": {},
   "source": [
    "### Mean groups together"
   ]
  },
  {
   "cell_type": "code",
   "execution_count": 5,
   "id": "82a35e0f",
   "metadata": {},
   "outputs": [
    {
     "data": {
      "text/plain": [
       "(['Falcon', 'Parrot'], {'Max Speed': [375, 25]})"
      ]
     },
     "execution_count": 5,
     "metadata": {},
     "output_type": "execute_result"
    }
   ],
   "source": [
    "from tinytim.group import mean_groups\n",
    "\n",
    "mean_groups(groups)"
   ]
  },
  {
   "cell_type": "markdown",
   "id": "132172d2",
   "metadata": {},
   "source": [
    "### Get count of each group"
   ]
  },
  {
   "cell_type": "code",
   "execution_count": 6,
   "id": "0f20cbab",
   "metadata": {},
   "outputs": [
    {
     "data": {
      "text/plain": [
       "(['Falcon', 'Parrot'],\n",
       " {'Animal': [2, 2], 'Color': [2, 2], 'Max Speed': [2, 2]})"
      ]
     },
     "execution_count": 6,
     "metadata": {},
     "output_type": "execute_result"
    }
   ],
   "source": [
    "from tinytim.group import count_groups\n",
    "\n",
    "count_groups(groups)"
   ]
  },
  {
   "cell_type": "markdown",
   "id": "ce501f1d",
   "metadata": {},
   "source": [
    "### Get max values for each group"
   ]
  },
  {
   "cell_type": "code",
   "execution_count": 7,
   "id": "52b97011",
   "metadata": {},
   "outputs": [
    {
     "data": {
      "text/plain": [
       "(['Falcon', 'Parrot'],\n",
       " {'Animal': ['Falcon', 'Parrot'],\n",
       "  'Color': ['Brown', 'Red'],\n",
       "  'Max Speed': [380, 26]})"
      ]
     },
     "execution_count": 7,
     "metadata": {},
     "output_type": "execute_result"
    }
   ],
   "source": [
    "from tinytim.group import max_groups\n",
    "\n",
    "max_groups(groups)"
   ]
  },
  {
   "cell_type": "markdown",
   "id": "5e94f5e4",
   "metadata": {},
   "source": [
    "### Get mode of each group"
   ]
  },
  {
   "cell_type": "code",
   "execution_count": 8,
   "id": "3ace6cf8",
   "metadata": {},
   "outputs": [
    {
     "data": {
      "text/plain": [
       "(['Falcon', 'Parrot'],\n",
       " {'Animal': ['Falcon', 'Parrot'],\n",
       "  'Color': ['Brown', 'Blue'],\n",
       "  'Max Speed': [380, 24]})"
      ]
     },
     "execution_count": 8,
     "metadata": {},
     "output_type": "execute_result"
    }
   ],
   "source": [
    "from tinytim.group import mode_groups\n",
    "\n",
    "mode_groups(groups)"
   ]
  },
  {
   "cell_type": "markdown",
   "id": "12159771",
   "metadata": {},
   "source": [
    "### Get Standard Deviation of each group"
   ]
  },
  {
   "cell_type": "code",
   "execution_count": 9,
   "id": "53695e66",
   "metadata": {},
   "outputs": [
    {
     "data": {
      "text/plain": [
       "(['Falcon', 'Parrot'], {'Max Speed': [7.0710678118654755, 1.4142135623730951]})"
      ]
     },
     "execution_count": 9,
     "metadata": {},
     "output_type": "execute_result"
    }
   ],
   "source": [
    "from tinytim.group import stdev_groups\n",
    "\n",
    "stdev_groups(groups)"
   ]
  },
  {
   "cell_type": "markdown",
   "id": "d555a27b",
   "metadata": {},
   "source": [
    "### Get standard deviation from an entire population of each group"
   ]
  },
  {
   "cell_type": "code",
   "execution_count": 10,
   "id": "6a8e3925",
   "metadata": {},
   "outputs": [
    {
     "data": {
      "text/plain": [
       "(['Falcon', 'Parrot'], {'Max Speed': [5.0, 1.0]})"
      ]
     },
     "execution_count": 10,
     "metadata": {},
     "output_type": "execute_result"
    }
   ],
   "source": [
    "from tinytim.group import pstdev_groups\n",
    "\n",
    "pstdev_groups(groups)"
   ]
  },
  {
   "cell_type": "markdown",
   "id": "f188b97e",
   "metadata": {},
   "source": [
    "### Count how many unuque values are in each group"
   ]
  },
  {
   "cell_type": "code",
   "execution_count": 11,
   "id": "b8473441",
   "metadata": {},
   "outputs": [
    {
     "data": {
      "text/plain": [
       "(['Falcon', 'Parrot'],\n",
       " {'Animal': [1, 1], 'Color': [1, 2], 'Max Speed': [2, 2]})"
      ]
     },
     "execution_count": 11,
     "metadata": {},
     "output_type": "execute_result"
    }
   ],
   "source": [
    "from tinytim.group import nunique_groups\n",
    "\n",
    "nunique_groups(groups)"
   ]
  }
 ],
 "metadata": {
  "kernelspec": {
   "display_name": "Python 3 (ipykernel)",
   "language": "python",
   "name": "python3"
  },
  "language_info": {
   "codemirror_mode": {
    "name": "ipython",
    "version": 3
   },
   "file_extension": ".py",
   "mimetype": "text/x-python",
   "name": "python",
   "nbconvert_exporter": "python",
   "pygments_lexer": "ipython3",
   "version": "3.10.6"
  }
 },
 "nbformat": 4,
 "nbformat_minor": 5
}
