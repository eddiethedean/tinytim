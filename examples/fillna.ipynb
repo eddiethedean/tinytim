{
 "cells": [
  {
   "cell_type": "code",
   "execution_count": 1,
   "id": "86b3652e",
   "metadata": {},
   "outputs": [],
   "source": [
    "from tinytim.na import fillna"
   ]
  },
  {
   "cell_type": "code",
   "execution_count": 2,
   "id": "fcdd4068",
   "metadata": {},
   "outputs": [],
   "source": [
    "data = {'A': [None, 3, None, None],\n",
    "        'B': [2, 4, None, 3],\n",
    "        'C': [None, None, None, None],\n",
    "        'D': [0, 1, None, 4]}"
   ]
  },
  {
   "cell_type": "markdown",
   "id": "a0098074",
   "metadata": {},
   "source": [
    "Replace all missing elements with 0s."
   ]
  },
  {
   "cell_type": "code",
   "execution_count": 3,
   "id": "81d67b6c",
   "metadata": {},
   "outputs": [
    {
     "data": {
      "text/plain": [
       "{'A': [0, 3, 0, 0], 'B': [2, 4, 0, 3], 'C': [0, 0, 0, 0], 'D': [0, 1, 0, 4]}"
      ]
     },
     "execution_count": 3,
     "metadata": {},
     "output_type": "execute_result"
    }
   ],
   "source": [
    "fillna(data, 0)"
   ]
  },
  {
   "cell_type": "markdown",
   "id": "e4f24831",
   "metadata": {},
   "source": [
    "We can also propagate non-missing values forward or backward."
   ]
  },
  {
   "cell_type": "code",
   "execution_count": 4,
   "id": "188a6ef5",
   "metadata": {},
   "outputs": [
    {
     "data": {
      "text/plain": [
       "{'A': [None, 3, 3, 3],\n",
       " 'B': [2, 4, 4, 3],\n",
       " 'C': [None, None, None, None],\n",
       " 'D': [0, 1, 1, 4]}"
      ]
     },
     "execution_count": 4,
     "metadata": {},
     "output_type": "execute_result"
    }
   ],
   "source": [
    "fillna(data, method=\"ffill\")"
   ]
  },
  {
   "cell_type": "markdown",
   "id": "46a778fc",
   "metadata": {},
   "source": [
    "Replace all missing elements in column ‘A’, ‘B’, ‘C’, and ‘D’, with 0, 1, 2, and 3 respectively."
   ]
  },
  {
   "cell_type": "code",
   "execution_count": 5,
   "id": "d243da1e",
   "metadata": {},
   "outputs": [
    {
     "data": {
      "text/plain": [
       "{'A': [0, 3, 0, 0], 'B': [2, 4, 1, 3], 'C': [2, 2, 2, 2], 'D': [0, 1, 3, 4]}"
      ]
     },
     "execution_count": 5,
     "metadata": {},
     "output_type": "execute_result"
    }
   ],
   "source": [
    "values = {\"A\": 0, \"B\": 1, \"C\": 2, \"D\": 3}\n",
    "fillna(data, value=values)"
   ]
  },
  {
   "cell_type": "markdown",
   "id": "0e804efb",
   "metadata": {},
   "source": [
    "Only replace the first missing element."
   ]
  },
  {
   "cell_type": "code",
   "execution_count": 6,
   "id": "24c08e1e",
   "metadata": {},
   "outputs": [
    {
     "data": {
      "text/plain": [
       "{'A': [0, 3, None, None],\n",
       " 'B': [2, 4, 1, 3],\n",
       " 'C': [2, None, None, None],\n",
       " 'D': [0, 1, 3, 4]}"
      ]
     },
     "execution_count": 6,
     "metadata": {},
     "output_type": "execute_result"
    }
   ],
   "source": [
    "fillna(data, value=values, limit=1)"
   ]
  },
  {
   "cell_type": "markdown",
   "id": "b3c2b6a4",
   "metadata": {},
   "source": [
    "Replace all missing elements with 0s in the same variable."
   ]
  },
  {
   "cell_type": "code",
   "execution_count": 7,
   "id": "18094e64",
   "metadata": {},
   "outputs": [
    {
     "data": {
      "text/plain": [
       "{'A': [0, 3, 0, 0], 'B': [2, 4, 0, 3], 'C': [0, 0, 0, 0], 'D': [0, 1, 0, 4]}"
      ]
     },
     "execution_count": 7,
     "metadata": {},
     "output_type": "execute_result"
    }
   ],
   "source": [
    "fillna(data, 0, inplace=True)\n",
    "data"
   ]
  }
 ],
 "metadata": {
  "kernelspec": {
   "display_name": "Python 3 (ipykernel)",
   "language": "python",
   "name": "python3"
  },
  "language_info": {
   "codemirror_mode": {
    "name": "ipython",
    "version": 3
   },
   "file_extension": ".py",
   "mimetype": "text/x-python",
   "name": "python",
   "nbconvert_exporter": "python",
   "pygments_lexer": "ipython3",
   "version": "3.10.6"
  }
 },
 "nbformat": 4,
 "nbformat_minor": 5
}
