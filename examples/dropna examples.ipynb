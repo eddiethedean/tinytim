{
 "cells": [
  {
   "cell_type": "code",
   "execution_count": 1,
   "id": "7a47df09",
   "metadata": {},
   "outputs": [
    {
     "data": {
      "text/plain": [
       "{'name': ['Alfred', 'Batman', 'Catwoman'],\n",
       " 'toy': [None, 'Batmobile', 'Bullwhip'],\n",
       " 'born': [None, '1940-04-25', None]}"
      ]
     },
     "execution_count": 1,
     "metadata": {},
     "output_type": "execute_result"
    }
   ],
   "source": [
    "from tinytim.na import dropna\n",
    "data = {\"name\": ['Alfred', 'Batman', 'Catwoman'],\n",
    "        \"toy\": [None, 'Batmobile', 'Bullwhip'],\n",
    "        \"born\": [None, \"1940-04-25\", None]}\n",
    "\n",
    "data"
   ]
  },
  {
   "cell_type": "markdown",
   "id": "198eb3e8",
   "metadata": {},
   "source": [
    "### Drop the rows where at least one element is missing."
   ]
  },
  {
   "cell_type": "code",
   "execution_count": 2,
   "id": "89292328",
   "metadata": {},
   "outputs": [
    {
     "data": {
      "text/plain": [
       "{'name': ['Batman'], 'toy': ['Batmobile'], 'born': ['1940-04-25']}"
      ]
     },
     "execution_count": 2,
     "metadata": {},
     "output_type": "execute_result"
    }
   ],
   "source": [
    "dropna(data)"
   ]
  },
  {
   "cell_type": "markdown",
   "id": "ccdd3429",
   "metadata": {},
   "source": [
    "### Drop the columns where at least one element is missing."
   ]
  },
  {
   "cell_type": "code",
   "execution_count": 3,
   "id": "d2cb675f",
   "metadata": {},
   "outputs": [
    {
     "data": {
      "text/plain": [
       "{'name': ['Alfred', 'Batman', 'Catwoman']}"
      ]
     },
     "execution_count": 3,
     "metadata": {},
     "output_type": "execute_result"
    }
   ],
   "source": [
    "dropna(data, axis='columns')"
   ]
  },
  {
   "cell_type": "markdown",
   "id": "6fb690de",
   "metadata": {},
   "source": [
    "### Drop the rows where all elements are missing."
   ]
  },
  {
   "cell_type": "code",
   "execution_count": 4,
   "id": "7e119472",
   "metadata": {},
   "outputs": [
    {
     "data": {
      "text/plain": [
       "{'name': ['Alfred', 'Batman', 'Catwoman'],\n",
       " 'toy': [None, 'Batmobile', 'Bullwhip'],\n",
       " 'born': [None, '1940-04-25', None]}"
      ]
     },
     "execution_count": 4,
     "metadata": {},
     "output_type": "execute_result"
    }
   ],
   "source": [
    "dropna(data, how='all')"
   ]
  },
  {
   "cell_type": "markdown",
   "id": "09e8567a",
   "metadata": {},
   "source": [
    "### Keep only the rows with at least 2 non-NA values."
   ]
  },
  {
   "cell_type": "code",
   "execution_count": 5,
   "id": "2dfeae61",
   "metadata": {},
   "outputs": [
    {
     "data": {
      "text/plain": [
       "{'name': ['Batman', 'Catwoman'],\n",
       " 'toy': ['Batmobile', 'Bullwhip'],\n",
       " 'born': ['1940-04-25', None]}"
      ]
     },
     "execution_count": 5,
     "metadata": {},
     "output_type": "execute_result"
    }
   ],
   "source": [
    "dropna(data, thresh=2)"
   ]
  },
  {
   "cell_type": "markdown",
   "id": "644b225c",
   "metadata": {},
   "source": [
    "### Define in which columns to look for missing values."
   ]
  },
  {
   "cell_type": "code",
   "execution_count": 6,
   "id": "ed8e4bac",
   "metadata": {},
   "outputs": [
    {
     "data": {
      "text/plain": [
       "{'name': ['Batman', 'Catwoman'],\n",
       " 'toy': ['Batmobile', 'Bullwhip'],\n",
       " 'born': ['1940-04-25', None]}"
      ]
     },
     "execution_count": 6,
     "metadata": {},
     "output_type": "execute_result"
    }
   ],
   "source": [
    "dropna(data, subset=['name', 'toy'])"
   ]
  },
  {
   "cell_type": "markdown",
   "id": "9e8a7a58",
   "metadata": {},
   "source": [
    "### Keep the data with valid entries in the same variable."
   ]
  },
  {
   "cell_type": "code",
   "execution_count": 7,
   "id": "a3387a7f",
   "metadata": {},
   "outputs": [
    {
     "data": {
      "text/plain": [
       "{'name': ['Batman'], 'toy': ['Batmobile'], 'born': ['1940-04-25']}"
      ]
     },
     "execution_count": 7,
     "metadata": {},
     "output_type": "execute_result"
    }
   ],
   "source": [
    "dropna(data, inplace=True)\n",
    "data"
   ]
  }
 ],
 "metadata": {
  "kernelspec": {
   "display_name": "Python 3 (ipykernel)",
   "language": "python",
   "name": "python3"
  },
  "language_info": {
   "codemirror_mode": {
    "name": "ipython",
    "version": 3
   },
   "file_extension": ".py",
   "mimetype": "text/x-python",
   "name": "python",
   "nbconvert_exporter": "python",
   "pygments_lexer": "ipython3",
   "version": "3.10.6"
  }
 },
 "nbformat": 4,
 "nbformat_minor": 5
}
