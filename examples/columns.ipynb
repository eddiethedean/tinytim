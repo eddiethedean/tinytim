{
 "cells": [
  {
   "cell_type": "markdown",
   "id": "f73c7b56",
   "metadata": {},
   "source": [
    "### Return a dict of {col_name, col_values} from data."
   ]
  },
  {
   "cell_type": "code",
   "execution_count": 1,
   "id": "66ed1f7c",
   "metadata": {},
   "outputs": [
    {
     "data": {
      "text/plain": [
       "{'x': [1, 2, 3]}"
      ]
     },
     "execution_count": 1,
     "metadata": {},
     "output_type": "execute_result"
    }
   ],
   "source": [
    "from tinytim.columns import column_dict\n",
    "\n",
    "data = {'x': [1, 2, 3], 'y': [6, 7, 8]}\n",
    "column_dict(data, 'x')"
   ]
  },
  {
   "cell_type": "markdown",
   "id": "c271870c",
   "metadata": {},
   "source": [
    "### Return a generator of tuple column name, column values."
   ]
  },
  {
   "cell_type": "code",
   "execution_count": 2,
   "id": "76131c78",
   "metadata": {},
   "outputs": [
    {
     "name": "stdout",
     "output_type": "stream",
     "text": [
      "x (1, 2, 3)\n",
      "y (6, 7, 8)\n"
     ]
    }
   ],
   "source": [
    "from tinytim.columns import itercolumns\n",
    "\n",
    "data = {'x': [1, 2, 3], 'y': [6, 7, 8]}\n",
    "for name, values in itercolumns(data):\n",
    "    print(name, values)"
   ]
  },
  {
   "cell_type": "code",
   "execution_count": 3,
   "id": "9fcf6633",
   "metadata": {},
   "outputs": [
    {
     "data": {
      "text/plain": [
       "DictAnyKey([(1, 3), (4, 2), (5, 1)])"
      ]
     },
     "execution_count": 3,
     "metadata": {},
     "output_type": "execute_result"
    }
   ],
   "source": [
    "from tinytim.columns import value_counts\n",
    "\n",
    "values = [4, 1, 1, 4, 5, 1]\n",
    "value_counts(values)"
   ]
  },
  {
   "cell_type": "markdown",
   "id": "d6d9cafa",
   "metadata": {},
   "source": [
    "### Add a number to each value in a sequence."
   ]
  },
  {
   "cell_type": "code",
   "execution_count": 4,
   "id": "58224e70",
   "metadata": {},
   "outputs": [
    {
     "data": {
      "text/plain": [
       "[2, 3, 4, 5]"
      ]
     },
     "execution_count": 4,
     "metadata": {},
     "output_type": "execute_result"
    }
   ],
   "source": [
    "from tinytim.columns import add_to_column\n",
    "\n",
    "column = (1, 2, 3, 4)\n",
    "add_to_column(column, 1)"
   ]
  },
  {
   "cell_type": "markdown",
   "id": "baddf3bf",
   "metadata": {},
   "source": [
    "### Add a sequence of numbers to a sequence."
   ]
  },
  {
   "cell_type": "code",
   "execution_count": 5,
   "id": "1c46f407",
   "metadata": {},
   "outputs": [
    {
     "data": {
      "text/plain": [
       "[5, 7, 9, 11]"
      ]
     },
     "execution_count": 5,
     "metadata": {},
     "output_type": "execute_result"
    }
   ],
   "source": [
    "column = (1, 2, 3, 4)\n",
    "add_to_column(column, (4, 5, 6, 7))"
   ]
  },
  {
   "cell_type": "markdown",
   "id": "eb3e726a",
   "metadata": {},
   "source": [
    "### Concatenate a sequence of strings to each value in a sequence of strings."
   ]
  },
  {
   "cell_type": "code",
   "execution_count": 6,
   "id": "bd774bb3",
   "metadata": {},
   "outputs": [
    {
     "data": {
      "text/plain": [
       "['aA', 'bA', 'cA', 'dA']"
      ]
     },
     "execution_count": 6,
     "metadata": {},
     "output_type": "execute_result"
    }
   ],
   "source": [
    "column = ('a', 'b', 'c', 'd')\n",
    "add_to_column(column, 'A')"
   ]
  },
  {
   "cell_type": "markdown",
   "id": "aed5e6c2",
   "metadata": {},
   "source": [
    "### Concatenate a string to each value in a sequence of strings."
   ]
  },
  {
   "cell_type": "code",
   "execution_count": 7,
   "id": "64adf135",
   "metadata": {},
   "outputs": [
    {
     "data": {
      "text/plain": [
       "['aA', 'bB', 'cC', 'dD']"
      ]
     },
     "execution_count": 7,
     "metadata": {},
     "output_type": "execute_result"
    }
   ],
   "source": [
    "column = ('a', 'b', 'c', 'd')\n",
    "add_to_column(column, ('A', 'B', 'C', 'D'))"
   ]
  },
  {
   "cell_type": "markdown",
   "id": "82cbeace",
   "metadata": {},
   "source": [
    "### Subtract a number from each value in a sequence of numbers."
   ]
  },
  {
   "cell_type": "code",
   "execution_count": 8,
   "id": "fbab6d12",
   "metadata": {},
   "outputs": [
    {
     "data": {
      "text/plain": [
       "[0, 1, 2, 3]"
      ]
     },
     "execution_count": 8,
     "metadata": {},
     "output_type": "execute_result"
    }
   ],
   "source": [
    "from tinytim.columns import subtract_from_column\n",
    "\n",
    "column = (1, 2, 3, 4)\n",
    "subtract_from_column(column, 1)"
   ]
  },
  {
   "cell_type": "code",
   "execution_count": 9,
   "id": "cfc3166f",
   "metadata": {},
   "outputs": [
    {
     "data": {
      "text/plain": [
       "[-3, -3, -3, -3]"
      ]
     },
     "execution_count": 9,
     "metadata": {},
     "output_type": "execute_result"
    }
   ],
   "source": [
    "column = (1, 2, 3, 4)\n",
    "subtract_from_column(column, (4, 5, 6, 7))"
   ]
  },
  {
   "cell_type": "markdown",
   "id": "a1e0215d",
   "metadata": {},
   "source": [
    "### Multiply a number with each value in a sequence of numbers."
   ]
  },
  {
   "cell_type": "code",
   "execution_count": 10,
   "id": "1638f28b",
   "metadata": {},
   "outputs": [
    {
     "data": {
      "text/plain": [
       "[2, 4, 6, 8]"
      ]
     },
     "execution_count": 10,
     "metadata": {},
     "output_type": "execute_result"
    }
   ],
   "source": [
    "from tinytim.columns import multiply_column\n",
    "\n",
    "column = (1, 2, 3, 4)\n",
    "multiply_column(column, 2)"
   ]
  },
  {
   "cell_type": "markdown",
   "id": "492be5c1",
   "metadata": {},
   "source": [
    "### Mutiply a sequence of numbers with a sequence of numbers."
   ]
  },
  {
   "cell_type": "code",
   "execution_count": 11,
   "id": "8f1699f1",
   "metadata": {},
   "outputs": [
    {
     "data": {
      "text/plain": [
       "[4, 10, 18, 28]"
      ]
     },
     "execution_count": 11,
     "metadata": {},
     "output_type": "execute_result"
    }
   ],
   "source": [
    "column = (1, 2, 3, 4)\n",
    "multiply_column(column, (4, 5, 6, 7))"
   ]
  },
  {
   "cell_type": "markdown",
   "id": "0a9ff8a4",
   "metadata": {},
   "source": [
    "### Multiply a sequence of strings with a sequence of int."
   ]
  },
  {
   "cell_type": "code",
   "execution_count": 12,
   "id": "1d195de8",
   "metadata": {},
   "outputs": [
    {
     "data": {
      "text/plain": [
       "['aaa', 'bbb', 'ccc', 'ddd']"
      ]
     },
     "execution_count": 12,
     "metadata": {},
     "output_type": "execute_result"
    }
   ],
   "source": [
    "column = ['a', 'b', 'c', 'd']\n",
    "multiply_column(column, 3)"
   ]
  },
  {
   "cell_type": "markdown",
   "id": "b3078844",
   "metadata": {},
   "source": [
    "### Multiply a sequence of int with a sequence of strings."
   ]
  },
  {
   "cell_type": "code",
   "execution_count": 13,
   "id": "f484c298",
   "metadata": {},
   "outputs": [
    {
     "data": {
      "text/plain": [
       "['z', 'qq', 'yyy', 'qqqq']"
      ]
     },
     "execution_count": 13,
     "metadata": {},
     "output_type": "execute_result"
    }
   ],
   "source": [
    "column = [1, 2, 3, 4]\n",
    "multiply_column(column, ('z', 'q', 'y', 'q'))"
   ]
  },
  {
   "cell_type": "markdown",
   "id": "9d118cad",
   "metadata": {},
   "source": [
    "### Divide a number from each value in a sequence of numbers."
   ]
  },
  {
   "cell_type": "code",
   "execution_count": 14,
   "id": "ce786716",
   "metadata": {},
   "outputs": [
    {
     "data": {
      "text/plain": [
       "[0.5, 1.0, 1.5, 2.0]"
      ]
     },
     "execution_count": 14,
     "metadata": {},
     "output_type": "execute_result"
    }
   ],
   "source": [
    "from tinytim.columns import divide_column\n",
    "\n",
    "column = (1, 2, 3, 4)\n",
    "divide_column(column, 2)"
   ]
  },
  {
   "cell_type": "markdown",
   "id": "7ad1abea",
   "metadata": {},
   "source": [
    "### Divide a sequence of numbers from a sequence of numbers."
   ]
  },
  {
   "cell_type": "code",
   "execution_count": 15,
   "id": "9c44a9f8",
   "metadata": {},
   "outputs": [
    {
     "data": {
      "text/plain": [
       "[0.25, 0.4, 0.5, 0.5714285714285714]"
      ]
     },
     "execution_count": 15,
     "metadata": {},
     "output_type": "execute_result"
    }
   ],
   "source": [
    "column = (1, 2, 3, 4)\n",
    "divide_column(column, (4, 5, 6, 7))"
   ]
  },
  {
   "cell_type": "markdown",
   "id": "264a0f24",
   "metadata": {},
   "source": [
    "### Modulo a number from each value in a sequence of numbers."
   ]
  },
  {
   "cell_type": "code",
   "execution_count": 16,
   "id": "0c33a317",
   "metadata": {},
   "outputs": [
    {
     "data": {
      "text/plain": [
       "[1, 0, 1, 0]"
      ]
     },
     "execution_count": 16,
     "metadata": {},
     "output_type": "execute_result"
    }
   ],
   "source": [
    "from tinytim.columns import mod_column\n",
    "\n",
    "column = (1, 2, 3, 4)\n",
    "mod_column(column, 2)"
   ]
  },
  {
   "cell_type": "markdown",
   "id": "4c584db7",
   "metadata": {},
   "source": [
    "### Modulo a sequence of numbers from a sequence of numbers."
   ]
  },
  {
   "cell_type": "code",
   "execution_count": 17,
   "id": "6c2fb5cc",
   "metadata": {},
   "outputs": [
    {
     "data": {
      "text/plain": [
       "[0, 1, 3, 0]"
      ]
     },
     "execution_count": 17,
     "metadata": {},
     "output_type": "execute_result"
    }
   ],
   "source": [
    "column = (4, 67, 87, 65)\n",
    "mod_column(column, (2, 3, 4, 5))"
   ]
  },
  {
   "cell_type": "markdown",
   "id": "8dbfb894",
   "metadata": {},
   "source": [
    "### Exponent a number with each value in a sequence of numbers."
   ]
  },
  {
   "cell_type": "code",
   "execution_count": 18,
   "id": "43050003",
   "metadata": {},
   "outputs": [
    {
     "data": {
      "text/plain": [
       "[1, 4, 9, 16]"
      ]
     },
     "execution_count": 18,
     "metadata": {},
     "output_type": "execute_result"
    }
   ],
   "source": [
    "from tinytim.columns import exponent_column\n",
    "\n",
    "column = (1, 2, 3, 4)\n",
    "exponent_column(column, 2)"
   ]
  },
  {
   "cell_type": "markdown",
   "id": "ad68c65c",
   "metadata": {},
   "source": [
    "### Exponent a sequence of numbers with a sequence of numbers."
   ]
  },
  {
   "cell_type": "code",
   "execution_count": 19,
   "id": "0c3e52a0",
   "metadata": {},
   "outputs": [
    {
     "data": {
      "text/plain": [
       "[4, 27, 256, 3125]"
      ]
     },
     "execution_count": 19,
     "metadata": {},
     "output_type": "execute_result"
    }
   ],
   "source": [
    "column = (2, 3, 4, 5)\n",
    "exponent_column(column, (2, 3, 4, 5))"
   ]
  },
  {
   "cell_type": "markdown",
   "id": "84936beb",
   "metadata": {},
   "source": [
    "### Floor divide a number from each value in a sequence of numbers."
   ]
  },
  {
   "cell_type": "code",
   "execution_count": 20,
   "id": "77ff5517",
   "metadata": {},
   "outputs": [
    {
     "data": {
      "text/plain": [
       "[0, 1, 1, 2]"
      ]
     },
     "execution_count": 20,
     "metadata": {},
     "output_type": "execute_result"
    }
   ],
   "source": [
    "from tinytim.columns import floor_column\n",
    "\n",
    "column = (1, 2, 3, 4)\n",
    "floor_column(column, 2)"
   ]
  },
  {
   "cell_type": "markdown",
   "id": "220f7b69",
   "metadata": {},
   "source": [
    "### Floor divide a sequence of numbers from a sequence of numbers."
   ]
  },
  {
   "cell_type": "code",
   "execution_count": 21,
   "id": "2333e6d8",
   "metadata": {},
   "outputs": [
    {
     "data": {
      "text/plain": [
       "[11, 12, 12, 6]"
      ]
     },
     "execution_count": 21,
     "metadata": {},
     "output_type": "execute_result"
    }
   ],
   "source": [
    "column = (56, 77, 88, 55)\n",
    "floor_column(column, (5, 6, 7, 8))"
   ]
  }
 ],
 "metadata": {
  "kernelspec": {
   "display_name": "Python 3 (ipykernel)",
   "language": "python",
   "name": "python3"
  },
  "language_info": {
   "codemirror_mode": {
    "name": "ipython",
    "version": 3
   },
   "file_extension": ".py",
   "mimetype": "text/x-python",
   "name": "python",
   "nbconvert_exporter": "python",
   "pygments_lexer": "ipython3",
   "version": "3.10.6"
  }
 },
 "nbformat": 4,
 "nbformat_minor": 5
}
