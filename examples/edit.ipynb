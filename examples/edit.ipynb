{
 "cells": [
  {
   "cell_type": "markdown",
   "id": "456c8b57",
   "metadata": {},
   "source": [
    "### data is in {column name: column values} format - Dict[str, List]"
   ]
  },
  {
   "cell_type": "code",
   "execution_count": 1,
   "id": "0b266f12",
   "metadata": {},
   "outputs": [],
   "source": [
    "data = {'x': [1, 2, 3],\n",
    "        'y': [6, 7, 8]}"
   ]
  },
  {
   "cell_type": "markdown",
   "id": "6bb506be",
   "metadata": {},
   "source": [
    "### Return data with row values at index changed to mapping items values."
   ]
  },
  {
   "cell_type": "code",
   "execution_count": 2,
   "id": "bf6ee083",
   "metadata": {},
   "outputs": [
    {
     "data": {
      "text/plain": [
       "{'x': [11, 2, 3], 'y': [66, 7, 8]}"
      ]
     },
     "execution_count": 2,
     "metadata": {},
     "output_type": "execute_result"
    }
   ],
   "source": [
    "from tinytim.edit import edit_row_items\n",
    "\n",
    "edit_row_items(data, 0, {'x': 11, 'y': 66})"
   ]
  },
  {
   "cell_type": "markdown",
   "id": "9baa8ce6",
   "metadata": {},
   "source": [
    "### Return data with row values at index changed to sequence of values."
   ]
  },
  {
   "cell_type": "code",
   "execution_count": 3,
   "id": "eca1b57c",
   "metadata": {},
   "outputs": [
    {
     "data": {
      "text/plain": [
       "{'x': [1, 22, 3], 'y': [6, 77, 8]}"
      ]
     },
     "execution_count": 3,
     "metadata": {},
     "output_type": "execute_result"
    }
   ],
   "source": [
    "from tinytim.edit import edit_row_values\n",
    "\n",
    "edit_row_values(data, 1, (22, 77))"
   ]
  },
  {
   "cell_type": "markdown",
   "id": "f2572aca",
   "metadata": {},
   "source": [
    "### Return data with values changed in named column."
   ]
  },
  {
   "cell_type": "code",
   "execution_count": 4,
   "id": "6480c526",
   "metadata": {},
   "outputs": [
    {
     "data": {
      "text/plain": [
       "{'x': [11, 22, 33], 'y': [6, 7, 8]}"
      ]
     },
     "execution_count": 4,
     "metadata": {},
     "output_type": "execute_result"
    }
   ],
   "source": [
    "from tinytim.edit import edit_column\n",
    "\n",
    "edit_column(data, 'x', [11, 22, 33])"
   ]
  },
  {
   "cell_type": "markdown",
   "id": "32c4a94f",
   "metadata": {},
   "source": [
    "### Return data with new named column with new values."
   ]
  },
  {
   "cell_type": "code",
   "execution_count": 5,
   "id": "50465324",
   "metadata": {},
   "outputs": [
    {
     "data": {
      "text/plain": [
       "{'x': [1, 2, 3], 'y': [6, 7, 8], 'z': [66, 77, 88]}"
      ]
     },
     "execution_count": 5,
     "metadata": {},
     "output_type": "execute_result"
    }
   ],
   "source": [
    "edit_column(data, 'z', [66, 77, 88])"
   ]
  },
  {
   "cell_type": "markdown",
   "id": "6aa2c489",
   "metadata": {},
   "source": [
    "### Return data with func operator used on values from named column."
   ]
  },
  {
   "cell_type": "code",
   "execution_count": 6,
   "id": "4ab3b132",
   "metadata": {},
   "outputs": [
    {
     "data": {
      "text/plain": [
       "{'x': [2, 3, 4], 'y': [6, 7, 8]}"
      ]
     },
     "execution_count": 6,
     "metadata": {},
     "output_type": "execute_result"
    }
   ],
   "source": [
    "from tinytim.edit import operator_column\n",
    "\n",
    "func = lambda x, y : x + y\n",
    "operator_column(data, 'x', 1, func)"
   ]
  },
  {
   "cell_type": "markdown",
   "id": "4761e801",
   "metadata": {},
   "source": [
    "### Return data with a single value added to named column values."
   ]
  },
  {
   "cell_type": "code",
   "execution_count": 7,
   "id": "d6e3500a",
   "metadata": {},
   "outputs": [
    {
     "data": {
      "text/plain": [
       "{'x': [2, 3, 4], 'y': [6, 7, 8]}"
      ]
     },
     "execution_count": 7,
     "metadata": {},
     "output_type": "execute_result"
    }
   ],
   "source": [
    "from tinytim.edit import add_to_column\n",
    "\n",
    "add_to_column(data, 'x', 1)"
   ]
  },
  {
   "cell_type": "markdown",
   "id": "26abfc47",
   "metadata": {},
   "source": [
    "### Return data with sequence of values added to named column values."
   ]
  },
  {
   "cell_type": "code",
   "execution_count": 8,
   "id": "0b027265",
   "metadata": {},
   "outputs": [
    {
     "data": {
      "text/plain": [
       "{'x': [12, 24, 36], 'y': [6, 7, 8]}"
      ]
     },
     "execution_count": 8,
     "metadata": {},
     "output_type": "execute_result"
    }
   ],
   "source": [
    "add_to_column(data, 'x', [11, 22, 33])"
   ]
  },
  {
   "cell_type": "markdown",
   "id": "9ee2cab4",
   "metadata": {},
   "source": [
    "### Return data with a single value subtracted from named column values."
   ]
  },
  {
   "cell_type": "code",
   "execution_count": 9,
   "id": "5effdc12",
   "metadata": {
    "scrolled": true
   },
   "outputs": [
    {
     "data": {
      "text/plain": [
       "{'x': [0, 1, 2], 'y': [6, 7, 8]}"
      ]
     },
     "execution_count": 9,
     "metadata": {},
     "output_type": "execute_result"
    }
   ],
   "source": [
    "from tinytim.edit import subtract_from_column\n",
    "\n",
    "subtract_from_column(data, 'x', 1)"
   ]
  },
  {
   "cell_type": "markdown",
   "id": "87441add",
   "metadata": {},
   "source": [
    "### Return data with sequence of values subtracted from named column values."
   ]
  },
  {
   "cell_type": "code",
   "execution_count": 10,
   "id": "e654e488",
   "metadata": {
    "scrolled": true
   },
   "outputs": [
    {
     "data": {
      "text/plain": [
       "{'x': [-10, -20, -30], 'y': [6, 7, 8]}"
      ]
     },
     "execution_count": 10,
     "metadata": {},
     "output_type": "execute_result"
    }
   ],
   "source": [
    "subtract_from_column(data, 'x', [11, 22, 33])"
   ]
  },
  {
   "cell_type": "markdown",
   "id": "d1fa41b4",
   "metadata": {},
   "source": [
    "### Return data with a single value multiplied with named column values."
   ]
  },
  {
   "cell_type": "code",
   "execution_count": 11,
   "id": "36cab279",
   "metadata": {},
   "outputs": [
    {
     "data": {
      "text/plain": [
       "{'x': [2, 4, 6], 'y': [6, 7, 8]}"
      ]
     },
     "execution_count": 11,
     "metadata": {},
     "output_type": "execute_result"
    }
   ],
   "source": [
    "from tinytim.edit import multiply_column\n",
    "\n",
    "multiply_column(data, 'x', 2)"
   ]
  },
  {
   "cell_type": "markdown",
   "id": "b14f5e1a",
   "metadata": {},
   "source": [
    "### Return data with sequence of values mutiplied with named column values."
   ]
  },
  {
   "cell_type": "code",
   "execution_count": 12,
   "id": "97165e78",
   "metadata": {},
   "outputs": [
    {
     "data": {
      "text/plain": [
       "{'x': [11, 44, 99], 'y': [6, 7, 8]}"
      ]
     },
     "execution_count": 12,
     "metadata": {},
     "output_type": "execute_result"
    }
   ],
   "source": [
    "multiply_column(data, 'x', [11, 22, 33])"
   ]
  },
  {
   "cell_type": "markdown",
   "id": "b3efa8fd",
   "metadata": {},
   "source": [
    "### Return data with named column divided by a single value."
   ]
  },
  {
   "cell_type": "code",
   "execution_count": 13,
   "id": "3e9a37fb",
   "metadata": {},
   "outputs": [
    {
     "data": {
      "text/plain": [
       "{'x': [0.5, 1.0, 1.5], 'y': [6, 7, 8]}"
      ]
     },
     "execution_count": 13,
     "metadata": {},
     "output_type": "execute_result"
    }
   ],
   "source": [
    "from tinytim.edit import divide_column\n",
    "\n",
    "divide_column(data, 'x', 2)"
   ]
  },
  {
   "cell_type": "markdown",
   "id": "9cb64083",
   "metadata": {},
   "source": [
    "### Return data with named column divided by a sequence of values."
   ]
  },
  {
   "cell_type": "code",
   "execution_count": 14,
   "id": "da5a01d1",
   "metadata": {},
   "outputs": [
    {
     "data": {
      "text/plain": [
       "{'x': [0.5, 0.6666666666666666, 0.75], 'y': [6, 7, 8]}"
      ]
     },
     "execution_count": 14,
     "metadata": {},
     "output_type": "execute_result"
    }
   ],
   "source": [
    "divide_column(data, 'x', [2, 3, 4])"
   ]
  },
  {
   "cell_type": "markdown",
   "id": "1101be01",
   "metadata": {},
   "source": [
    "### Return data with row at index removed from data."
   ]
  },
  {
   "cell_type": "code",
   "execution_count": 15,
   "id": "a396e57f",
   "metadata": {},
   "outputs": [
    {
     "data": {
      "text/plain": [
       "{'x': [1, 3], 'y': [6, 8]}"
      ]
     },
     "execution_count": 15,
     "metadata": {},
     "output_type": "execute_result"
    }
   ],
   "source": [
    "from tinytim.edit import drop_row\n",
    "\n",
    "drop_row(data, 1)"
   ]
  },
  {
   "cell_type": "markdown",
   "id": "58e3b884",
   "metadata": {},
   "source": [
    "### Return data with named column dropped."
   ]
  },
  {
   "cell_type": "code",
   "execution_count": 16,
   "id": "2cfd396c",
   "metadata": {},
   "outputs": [
    {
     "data": {
      "text/plain": [
       "{'x': [1, 2, 3]}"
      ]
     },
     "execution_count": 16,
     "metadata": {},
     "output_type": "execute_result"
    }
   ],
   "source": [
    "from tinytim.edit import drop_column\n",
    "\n",
    "drop_column(data, 'y')"
   ]
  },
  {
   "cell_type": "markdown",
   "id": "b1fcd583",
   "metadata": {},
   "source": [
    "### Return data with value in named column and row index edited with value."
   ]
  },
  {
   "cell_type": "code",
   "execution_count": 17,
   "id": "83785358",
   "metadata": {},
   "outputs": [
    {
     "data": {
      "text/plain": [
       "{'x': [11, 2, 3], 'y': [6, 7, 8]}"
      ]
     },
     "execution_count": 17,
     "metadata": {},
     "output_type": "execute_result"
    }
   ],
   "source": [
    "from tinytim.edit import edit_value\n",
    "\n",
    "edit_value(data, 'x', 0, 11)"
   ]
  },
  {
   "cell_type": "markdown",
   "id": "481f8bc9",
   "metadata": {},
   "source": [
    "### Return data with same column data but with new column names."
   ]
  },
  {
   "cell_type": "code",
   "execution_count": 18,
   "id": "c6ff1d20",
   "metadata": {},
   "outputs": [
    {
     "data": {
      "text/plain": [
       "{'xx': [1, 2, 3], 'yy': [6, 7, 8]}"
      ]
     },
     "execution_count": 18,
     "metadata": {},
     "output_type": "execute_result"
    }
   ],
   "source": [
    "from tinytim.edit import replace_column_names\n",
    "\n",
    "replace_column_names(data, ('xx', 'yy'))"
   ]
  },
  {
   "cell_type": "code",
   "execution_count": null,
   "id": "70a37388",
   "metadata": {},
   "outputs": [],
   "source": []
  }
 ],
 "metadata": {
  "kernelspec": {
   "display_name": "Python 3.10.6 ('tinytest')",
   "language": "python",
   "name": "python3"
  },
  "language_info": {
   "codemirror_mode": {
    "name": "ipython",
    "version": 3
   },
   "file_extension": ".py",
   "mimetype": "text/x-python",
   "name": "python",
   "nbconvert_exporter": "python",
   "pygments_lexer": "ipython3",
   "version": "3.10.6"
  },
  "vscode": {
   "interpreter": {
    "hash": "4d0367e4305023e240f56c24e5536afef06218d290043efceb12fee43daf66db"
   }
  }
 },
 "nbformat": 4,
 "nbformat_minor": 5
}
