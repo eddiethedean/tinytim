{
 "cells": [
  {
   "cell_type": "markdown",
   "id": "b1c14157",
   "metadata": {},
   "source": [
    "### data is in {column name: column values} format - Mapping[str, Sequence]"
   ]
  },
  {
   "cell_type": "code",
   "execution_count": 1,
   "id": "3e9fb6b6",
   "metadata": {},
   "outputs": [],
   "source": [
    "data = {'x': [1, 2, 3],\n",
    "        'y': [6, 7, 8]}"
   ]
  },
  {
   "cell_type": "markdown",
   "id": "b5e15fac",
   "metadata": {},
   "source": [
    "### Return the number of columns in data."
   ]
  },
  {
   "cell_type": "code",
   "execution_count": 2,
   "id": "4c88c9a6",
   "metadata": {},
   "outputs": [
    {
     "data": {
      "text/plain": [
       "2"
      ]
     },
     "execution_count": 2,
     "metadata": {},
     "output_type": "execute_result"
    }
   ],
   "source": [
    "from tinytim.data import column_count\n",
    "\n",
    "column_count(data)"
   ]
  },
  {
   "cell_type": "markdown",
   "id": "f61fa77d",
   "metadata": {},
   "source": [
    "### Return the name of the first column."
   ]
  },
  {
   "cell_type": "code",
   "execution_count": 3,
   "id": "2e68bf0f",
   "metadata": {},
   "outputs": [
    {
     "data": {
      "text/plain": [
       "'x'"
      ]
     },
     "execution_count": 3,
     "metadata": {},
     "output_type": "execute_result"
    }
   ],
   "source": [
    "from tinytim.data import first_column_name\n",
    "\n",
    "first_column_name(data)"
   ]
  },
  {
   "cell_type": "markdown",
   "id": "b676d82d",
   "metadata": {},
   "source": [
    "### Return the number of rows in data."
   ]
  },
  {
   "cell_type": "code",
   "execution_count": 4,
   "id": "1b783e18",
   "metadata": {},
   "outputs": [
    {
     "data": {
      "text/plain": [
       "3"
      ]
     },
     "execution_count": 4,
     "metadata": {},
     "output_type": "execute_result"
    }
   ],
   "source": [
    "from tinytim.data import row_count\n",
    "\n",
    "row_count(data)"
   ]
  },
  {
   "cell_type": "markdown",
   "id": "eed466ea",
   "metadata": {},
   "source": [
    "### Return data row count, column count tuple."
   ]
  },
  {
   "cell_type": "code",
   "execution_count": 5,
   "id": "edbed4d5",
   "metadata": {},
   "outputs": [
    {
     "data": {
      "text/plain": [
       "(3, 2)"
      ]
     },
     "execution_count": 5,
     "metadata": {},
     "output_type": "execute_result"
    }
   ],
   "source": [
    "from tinytim.data import shape\n",
    "\n",
    "shape(data)"
   ]
  },
  {
   "cell_type": "markdown",
   "id": "628e20f5",
   "metadata": {},
   "source": [
    "### Return data row count multiplied by column count."
   ]
  },
  {
   "cell_type": "code",
   "execution_count": 6,
   "id": "76f64397",
   "metadata": {},
   "outputs": [
    {
     "data": {
      "text/plain": [
       "6"
      ]
     },
     "execution_count": 6,
     "metadata": {},
     "output_type": "execute_result"
    }
   ],
   "source": [
    "from tinytim.data import size\n",
    "\n",
    "size(data)"
   ]
  },
  {
   "cell_type": "markdown",
   "id": "c3b33caf",
   "metadata": {},
   "source": [
    "### Return data column names."
   ]
  },
  {
   "cell_type": "code",
   "execution_count": 7,
   "id": "f5bb08ac",
   "metadata": {},
   "outputs": [
    {
     "data": {
      "text/plain": [
       "('x', 'y')"
      ]
     },
     "execution_count": 7,
     "metadata": {},
     "output_type": "execute_result"
    }
   ],
   "source": [
    "from tinytim.data import column_names\n",
    "\n",
    "column_names(data)"
   ]
  },
  {
   "cell_type": "markdown",
   "id": "e548974e",
   "metadata": {},
   "source": [
    "### Return the first n rows of data."
   ]
  },
  {
   "cell_type": "code",
   "execution_count": 8,
   "id": "bfcfcb23",
   "metadata": {},
   "outputs": [
    {
     "data": {
      "text/plain": [
       "{'x': [1, 2], 'y': [6, 7]}"
      ]
     },
     "execution_count": 8,
     "metadata": {},
     "output_type": "execute_result"
    }
   ],
   "source": [
    "from tinytim.data import head\n",
    "\n",
    "head(data, 2)"
   ]
  },
  {
   "cell_type": "markdown",
   "id": "a59310cd",
   "metadata": {},
   "source": [
    "### Return the last n rows of data."
   ]
  },
  {
   "cell_type": "code",
   "execution_count": 9,
   "id": "980f0051",
   "metadata": {},
   "outputs": [
    {
     "data": {
      "text/plain": [
       "{'x': [2, 3], 'y': [7, 8]}"
      ]
     },
     "execution_count": 9,
     "metadata": {},
     "output_type": "execute_result"
    }
   ],
   "source": [
    "from tinytim.data import tail\n",
    "\n",
    "tail(data, 2)"
   ]
  },
  {
   "cell_type": "markdown",
   "id": "e7ac398a",
   "metadata": {},
   "source": [
    "### Return tuple of data column indexes."
   ]
  },
  {
   "cell_type": "code",
   "execution_count": 10,
   "id": "a9a525d7",
   "metadata": {},
   "outputs": [
    {
     "data": {
      "text/plain": [
       "(0, 1, 2)"
      ]
     },
     "execution_count": 10,
     "metadata": {},
     "output_type": "execute_result"
    }
   ],
   "source": [
    "from tinytim.data import index\n",
    "\n",
    "index(data)"
   ]
  },
  {
   "cell_type": "markdown",
   "id": "44ea0cc8",
   "metadata": {},
   "source": [
    "### Return one value from column at row index."
   ]
  },
  {
   "cell_type": "code",
   "execution_count": 11,
   "id": "f8716689",
   "metadata": {},
   "outputs": [
    {
     "data": {
      "text/plain": [
       "2"
      ]
     },
     "execution_count": 11,
     "metadata": {},
     "output_type": "execute_result"
    }
   ],
   "source": [
    "from tinytim.data import table_value\n",
    "\n",
    "table_value(data, 'x', 1)"
   ]
  },
  {
   "cell_type": "markdown",
   "id": "b62f9544",
   "metadata": {},
   "source": [
    "### Return all the values from one column."
   ]
  },
  {
   "cell_type": "code",
   "execution_count": 12,
   "id": "f26b8691",
   "metadata": {},
   "outputs": [
    {
     "data": {
      "text/plain": [
       "(6, 7, 8)"
      ]
     },
     "execution_count": 12,
     "metadata": {},
     "output_type": "execute_result"
    }
   ],
   "source": [
    "from tinytim.data import column_values\n",
    "\n",
    "column_values(data, 'y')"
   ]
  }
 ],
 "metadata": {
  "kernelspec": {
   "display_name": "Python 3 (ipykernel)",
   "language": "python",
   "name": "python3"
  },
  "language_info": {
   "codemirror_mode": {
    "name": "ipython",
    "version": 3
   },
   "file_extension": ".py",
   "mimetype": "text/x-python",
   "name": "python",
   "nbconvert_exporter": "python",
   "pygments_lexer": "ipython3",
   "version": "3.10.6"
  },
  "vscode": {
   "interpreter": {
    "hash": "4d0367e4305023e240f56c24e5536afef06218d290043efceb12fee43daf66db"
   }
  }
 },
 "nbformat": 4,
 "nbformat_minor": 5
}
