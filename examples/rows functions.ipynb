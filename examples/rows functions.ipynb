{
 "cells": [
  {
   "cell_type": "markdown",
   "id": "9b06e906",
   "metadata": {},
   "source": [
    "### Return one row from data at index."
   ]
  },
  {
   "cell_type": "code",
   "execution_count": 1,
   "id": "13a4972b",
   "metadata": {},
   "outputs": [
    {
     "data": {
      "text/plain": [
       "{'x': 2, 'y': 7}"
      ]
     },
     "execution_count": 1,
     "metadata": {},
     "output_type": "execute_result"
    }
   ],
   "source": [
    "from tinytim.rows import row_dict\n",
    "\n",
    "data = {'x': [1, 2, 3], 'y': [6, 7, 8]}\n",
    "row_dict(data, 1)"
   ]
  },
  {
   "cell_type": "markdown",
   "id": "0c10e095",
   "metadata": {},
   "source": [
    "### Return a tuple of the values at row index."
   ]
  },
  {
   "cell_type": "code",
   "execution_count": 2,
   "id": "5043f8af",
   "metadata": {},
   "outputs": [
    {
     "data": {
      "text/plain": [
       "(1, 6)"
      ]
     },
     "execution_count": 2,
     "metadata": {},
     "output_type": "execute_result"
    }
   ],
   "source": [
    "from tinytim.rows import row_values\n",
    "\n",
    "data = {'x': [1, 2, 3], 'y': [6, 7, 8]}\n",
    "row_values(data, 0)"
   ]
  },
  {
   "cell_type": "markdown",
   "id": "aa46f1ed",
   "metadata": {},
   "source": [
    "### Return a generator of tuple row index, row dict values."
   ]
  },
  {
   "cell_type": "code",
   "execution_count": 3,
   "id": "fb11faf0",
   "metadata": {},
   "outputs": [
    {
     "name": "stdout",
     "output_type": "stream",
     "text": [
      "0 {'x': 1, 'y': 6}\n",
      "1 {'x': 2, 'y': 7}\n",
      "2 {'x': 3, 'y': 8}\n"
     ]
    }
   ],
   "source": [
    "from tinytim.rows import iterrows\n",
    "\n",
    "data = {'x': [1, 2, 3], 'y': [6, 7, 8]}\n",
    "for index, row in iterrows(data):\n",
    "    print(index, row)"
   ]
  },
  {
   "cell_type": "markdown",
   "id": "66ad0bdf",
   "metadata": {},
   "source": [
    "### Return a generator of tuple row values. (same as itervalues)"
   ]
  },
  {
   "cell_type": "code",
   "execution_count": 4,
   "id": "af0052d6",
   "metadata": {},
   "outputs": [
    {
     "name": "stdout",
     "output_type": "stream",
     "text": [
      "(1, 6)\n",
      "(2, 7)\n",
      "(3, 8)\n"
     ]
    }
   ],
   "source": [
    "from tinytim.rows import itertuples\n",
    "\n",
    "data = {'x': [1, 2, 3], 'y': [6, 7, 8]}\n",
    "for row in itertuples(data):\n",
    "    print(row)"
   ]
  },
  {
   "cell_type": "markdown",
   "id": "17b262e6",
   "metadata": {},
   "source": [
    "### Return a generator of tuple row values. (same as itertuples)"
   ]
  },
  {
   "cell_type": "code",
   "execution_count": 5,
   "id": "10227f44",
   "metadata": {},
   "outputs": [
    {
     "name": "stdout",
     "output_type": "stream",
     "text": [
      "(1, 6)\n",
      "(2, 7)\n",
      "(3, 8)\n"
     ]
    }
   ],
   "source": [
    "from tinytim.rows import itervalues\n",
    "\n",
    "data = {'x': [1, 2, 3], 'y': [6, 7, 8]}\n",
    "for row in itervalues(data):\n",
    "    print(row)"
   ]
  },
  {
   "cell_type": "markdown",
   "id": "db2f25e5",
   "metadata": {},
   "source": [
    "### Return tuple of tuple row values."
   ]
  },
  {
   "cell_type": "code",
   "execution_count": 6,
   "id": "bec01f0e",
   "metadata": {},
   "outputs": [
    {
     "data": {
      "text/plain": [
       "((1, 6), (2, 7), (3, 8))"
      ]
     },
     "execution_count": 6,
     "metadata": {},
     "output_type": "execute_result"
    }
   ],
   "source": [
    "from tinytim.rows import values\n",
    "\n",
    "data = {'x': [1, 2, 3], 'y': [6, 7, 8]}\n",
    "values(data)"
   ]
  },
  {
   "cell_type": "markdown",
   "id": "93250339",
   "metadata": {},
   "source": [
    "### Count up the unique rows."
   ]
  },
  {
   "cell_type": "code",
   "execution_count": 7,
   "id": "0710cc90",
   "metadata": {},
   "outputs": [
    {
     "data": {
      "text/plain": [
       "{(3, 3): 2, (1, 6): 1, (2, 7): 1}"
      ]
     },
     "execution_count": 7,
     "metadata": {},
     "output_type": "execute_result"
    }
   ],
   "source": [
    "from tinytim.rows import row_value_counts\n",
    "\n",
    "data = {'x': [1, 2, 3, 3], 'y': [6, 7, 3, 3]}\n",
    "row_value_counts(data)"
   ]
  },
  {
   "cell_type": "markdown",
   "id": "f8c4fc5f",
   "metadata": {},
   "source": [
    "### Return a generator of row dicts."
   ]
  },
  {
   "cell_type": "code",
   "execution_count": 8,
   "id": "29a66548",
   "metadata": {},
   "outputs": [
    {
     "name": "stdout",
     "output_type": "stream",
     "text": [
      "{'x': 1, 'y': 55}\n",
      "{'x': 2, 'y': 66}\n",
      "{'x': 3, 'y': 77}\n",
      "{'x': 4, 'y': 88}\n"
     ]
    }
   ],
   "source": [
    "from tinytim.rows import records\n",
    "\n",
    "data = {'x': [1, 2, 3, 4], 'y': [55, 66, 77, 88]}\n",
    "for row in records(data):\n",
    "    print(row)"
   ]
  },
  {
   "cell_type": "markdown",
   "id": "924a78b1",
   "metadata": {},
   "source": [
    "### Compare d1 and d2 records (rows) to see if they are equal. Order of records or columns does not matter."
   ]
  },
  {
   "cell_type": "code",
   "execution_count": 9,
   "id": "35cd17a3",
   "metadata": {},
   "outputs": [
    {
     "data": {
      "text/plain": [
       "True"
      ]
     },
     "execution_count": 9,
     "metadata": {},
     "output_type": "execute_result"
    }
   ],
   "source": [
    "from tinytim.rows import records_equal\n",
    "\n",
    "d1 = {'x': [1, 2, 3, 4], 'y': [55, 66, 77, 88]}\n",
    "d2 = {'x': [2, 1, 4, 3], 'y': [66, 55, 88, 77]}\n",
    "records_equal(d1, d2)"
   ]
  },
  {
   "cell_type": "code",
   "execution_count": 10,
   "id": "e1bca737",
   "metadata": {},
   "outputs": [
    {
     "data": {
      "text/plain": [
       "False"
      ]
     },
     "execution_count": 10,
     "metadata": {},
     "output_type": "execute_result"
    }
   ],
   "source": [
    "d1 = {'x': [1, 2, 3, 4], 'y': [55, 66, 77, 88]}\n",
    "d2 = {'x': [2, 1, 4, 3], 'y': [55, 77, 88, 66]}\n",
    "records_equal(d1, d2)"
   ]
  },
  {
   "cell_type": "markdown",
   "id": "5f0583ff",
   "metadata": {},
   "source": [
    "### Convert a list of row dicts to dict[col_name: values] format."
   ]
  },
  {
   "cell_type": "code",
   "execution_count": 11,
   "id": "3d9638a9",
   "metadata": {},
   "outputs": [
    {
     "data": {
      "text/plain": [
       "{'x': [1, 2, 3], 'y': [20, 21, 22]}"
      ]
     },
     "execution_count": 11,
     "metadata": {},
     "output_type": "execute_result"
    }
   ],
   "source": [
    "from tinytim.rows import row_dicts_to_data\n",
    "\n",
    "rows = [{'x': 1, 'y': 20}, {'x': 2, 'y': 21}, {'x': 3, 'y': 22}]\n",
    "row_dicts_to_data(rows)"
   ]
  },
  {
   "cell_type": "markdown",
   "id": "50004802",
   "metadata": {},
   "source": [
    "#### Deals with missing row values by inserting None to column."
   ]
  },
  {
   "cell_type": "code",
   "execution_count": 12,
   "id": "02da2dc8",
   "metadata": {},
   "outputs": [
    {
     "data": {
      "text/plain": [
       "{'x': [1, 2, 3], 'y': [20, None, 22]}"
      ]
     },
     "execution_count": 12,
     "metadata": {},
     "output_type": "execute_result"
    }
   ],
   "source": [
    "rows = [{'x': 1, 'y': 20}, {'x': 2}, {'x': 3, 'y': 22}]\n",
    "row_dicts_to_data(rows)"
   ]
  },
  {
   "cell_type": "markdown",
   "id": "04406842",
   "metadata": {},
   "source": [
    "### Convert sequence of row values: [col1_value, col2_value, col3_value] and column names: [col1_name, col2_name, col3_name] to data dict: {column_name: column_values}"
   ]
  },
  {
   "cell_type": "code",
   "execution_count": 13,
   "id": "0d4386aa",
   "metadata": {},
   "outputs": [
    {
     "data": {
      "text/plain": [
       "{'x': [1, 2, 3], 'y': [20, 21, 22]}"
      ]
     },
     "execution_count": 13,
     "metadata": {},
     "output_type": "execute_result"
    }
   ],
   "source": [
    "from tinytim.rows import row_values_to_data\n",
    "\n",
    "rows = [[1, 20], [2, 21], [3, 22]]\n",
    "columns = ['x', 'y']\n",
    "row_values_to_data(rows, columns)"
   ]
  },
  {
   "cell_type": "markdown",
   "id": "943c16c5",
   "metadata": {},
   "source": [
    "#### Deals with missing row values by inserting None to column."
   ]
  },
  {
   "cell_type": "code",
   "execution_count": 14,
   "id": "364ff6ae",
   "metadata": {},
   "outputs": [
    {
     "data": {
      "text/plain": [
       "{'x': [1, 2, 3], 'y': [20, None, 22]}"
      ]
     },
     "execution_count": 14,
     "metadata": {},
     "output_type": "execute_result"
    }
   ],
   "source": [
    "rows = [[1, 20], [2], [3, 22]]\n",
    "columns = ['x', 'y']\n",
    "row_values_to_data(rows, columns)"
   ]
  }
 ],
 "metadata": {
  "kernelspec": {
   "display_name": "Python 3 (ipykernel)",
   "language": "python",
   "name": "python3"
  },
  "language_info": {
   "codemirror_mode": {
    "name": "ipython",
    "version": 3
   },
   "file_extension": ".py",
   "mimetype": "text/x-python",
   "name": "python",
   "nbconvert_exporter": "python",
   "pygments_lexer": "ipython3",
   "version": "3.10.6"
  }
 },
 "nbformat": 4,
 "nbformat_minor": 5
}
