{
 "cells": [
  {
   "cell_type": "markdown",
   "id": "6874b99f",
   "metadata": {},
   "source": [
    "### Convert data table to list of row dicts."
   ]
  },
  {
   "cell_type": "code",
   "execution_count": 2,
   "id": "2462a069",
   "metadata": {},
   "outputs": [
    {
     "data": {
      "text/plain": [
       "[{'x': 1, 'y': 6}, {'x': 2, 'y': 7}, {'x': 3, 'y': 8}]"
      ]
     },
     "execution_count": 2,
     "metadata": {},
     "output_type": "execute_result"
    }
   ],
   "source": [
    "from tinytim.json import data_to_json_list\n",
    "\n",
    "data = {'x': [1, 2, 3], 'y': [6, 7, 8]}\n",
    "data_to_json_list(data)"
   ]
  },
  {
   "cell_type": "markdown",
   "id": "f993af8d",
   "metadata": {},
   "source": [
    "### Convert list of row dicts to data table format."
   ]
  },
  {
   "cell_type": "code",
   "execution_count": 3,
   "id": "3b59a775",
   "metadata": {},
   "outputs": [
    {
     "data": {
      "text/plain": [
       "{'x': [1, 2, 3], 'y': [6, 7, 8]}"
      ]
     },
     "execution_count": 3,
     "metadata": {},
     "output_type": "execute_result"
    }
   ],
   "source": [
    "from tinytim.json import json_list_to_data\n",
    "\n",
    "json = [{'x': 1, 'y': 6}, {'x': 2, 'y': 7}, {'x': 3, 'y': 8}]\n",
    "json_list_to_data(json)"
   ]
  },
  {
   "cell_type": "markdown",
   "id": "938a1080",
   "metadata": {},
   "source": [
    "### Convert data table to list of row dicts json string."
   ]
  },
  {
   "cell_type": "code",
   "execution_count": 4,
   "id": "aaa38244",
   "metadata": {},
   "outputs": [
    {
     "data": {
      "text/plain": [
       "'[{\"x\": 1, \"y\": 6}, {\"x\": 2, \"y\": 7}, {\"x\": 3, \"y\": 8}]'"
      ]
     },
     "execution_count": 4,
     "metadata": {},
     "output_type": "execute_result"
    }
   ],
   "source": [
    "from tinytim.json import data_to_json\n",
    "\n",
    "data = {'x': [1, 2, 3], 'y': [6, 7, 8]}\n",
    "data_to_json(data)"
   ]
  },
  {
   "cell_type": "markdown",
   "id": "7c3d5653",
   "metadata": {},
   "source": [
    "### Convert row dicts json string to data dict table."
   ]
  },
  {
   "cell_type": "code",
   "execution_count": 5,
   "id": "cd625171",
   "metadata": {},
   "outputs": [
    {
     "data": {
      "text/plain": [
       "{'x': [1, 2, 3], 'y': [6, 7, 8]}"
      ]
     },
     "execution_count": 5,
     "metadata": {},
     "output_type": "execute_result"
    }
   ],
   "source": [
    "from tinytim.json import json_to_data\n",
    "\n",
    "j = '[{\"x\": 1, \"y\": 6}, {\"x\": 2, \"y\": 7}, {\"x\": 3, \"y\": 8}]'\n",
    "json_to_data(j)"
   ]
  },
  {
   "cell_type": "code",
   "execution_count": null,
   "id": "fe9fd988",
   "metadata": {},
   "outputs": [],
   "source": []
  }
 ],
 "metadata": {
  "kernelspec": {
   "display_name": "Python 3 (ipykernel)",
   "language": "python",
   "name": "python3"
  },
  "language_info": {
   "codemirror_mode": {
    "name": "ipython",
    "version": 3
   },
   "file_extension": ".py",
   "mimetype": "text/x-python",
   "name": "python",
   "nbconvert_exporter": "python",
   "pygments_lexer": "ipython3",
   "version": "3.10.6"
  }
 },
 "nbformat": 4,
 "nbformat_minor": 5
}
