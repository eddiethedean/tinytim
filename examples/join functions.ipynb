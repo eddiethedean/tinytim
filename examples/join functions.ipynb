{
 "cells": [
  {
   "cell_type": "markdown",
   "id": "311bab33",
   "metadata": {},
   "source": [
    "### Inner Join two data dict on a specified column name(s)."
   ]
  },
  {
   "cell_type": "code",
   "execution_count": 1,
   "id": "eda78398",
   "metadata": {},
   "outputs": [
    {
     "data": {
      "text/plain": [
       "{'id': ['a', 'c', 'd'], 'x': [33, 44, 55], 'y': [11, 33, 44]}"
      ]
     },
     "execution_count": 1,
     "metadata": {},
     "output_type": "execute_result"
    }
   ],
   "source": [
    "from tinytim.join import inner_join\n",
    "\n",
    "left =  {'id': ['a', 'c', 'd', 'f', 'g'], 'x': [33, 44, 55, 66, 77]}\n",
    "right = {'id': ['a', 'b', 'c', 'd'], 'y': [11, 22, 33, 44]}\n",
    "inner_join(left, right, 'id')"
   ]
  },
  {
   "cell_type": "markdown",
   "id": "faee1417",
   "metadata": {},
   "source": [
    "### Full Join two data dict on a specified column name(s)."
   ]
  },
  {
   "cell_type": "code",
   "execution_count": 2,
   "id": "bc97b892",
   "metadata": {},
   "outputs": [
    {
     "data": {
      "text/plain": [
       "{'id': ['a', 'c', 'd', 'f', 'g', 'b'],\n",
       " 'x': [33, 44, 55, 66, 77, None],\n",
       " 'y': [11, 33, 44, None, None, 22]}"
      ]
     },
     "execution_count": 2,
     "metadata": {},
     "output_type": "execute_result"
    }
   ],
   "source": [
    "from tinytim.join import full_join\n",
    "\n",
    "left = {'id': ['a', 'c', 'd', 'f', 'g'], 'x': [33, 44, 55, 66, 77]}\n",
    "right = {'id': ['a', 'b', 'c', 'd'], 'y': [11, 22, 33, 44]}\n",
    "full_join(left, right, 'id')"
   ]
  },
  {
   "cell_type": "markdown",
   "id": "f75974f4",
   "metadata": {},
   "source": [
    "### Left Join two data dict on a specified column name(s)."
   ]
  },
  {
   "cell_type": "code",
   "execution_count": 3,
   "id": "33a347f6",
   "metadata": {},
   "outputs": [
    {
     "data": {
      "text/plain": [
       "{'id': ['a', 'c', 'd', 'f'], 'x': [33, 44, 55, 66], 'y': [11, 33, 44, None]}"
      ]
     },
     "execution_count": 3,
     "metadata": {},
     "output_type": "execute_result"
    }
   ],
   "source": [
    "from tinytim.join import left_join\n",
    "\n",
    "left = {'id': ['a', 'c', 'd', 'f'], 'x': [33, 44, 55, 66]}\n",
    "right = {'id': ['a', 'b', 'c', 'd'], 'y': [11, 22, 33, 44]}\n",
    "left_join(left, right, 'id')"
   ]
  },
  {
   "cell_type": "markdown",
   "id": "854c55d9",
   "metadata": {},
   "source": [
    "### Right Join two data dict on a specified column name(s)."
   ]
  },
  {
   "cell_type": "code",
   "execution_count": 4,
   "id": "b405f417",
   "metadata": {},
   "outputs": [
    {
     "data": {
      "text/plain": [
       "{'id': ['a', 'b', 'c', 'd'], 'x': [33, None, 44, 55], 'y': [11, 22, 33, 44]}"
      ]
     },
     "execution_count": 4,
     "metadata": {},
     "output_type": "execute_result"
    }
   ],
   "source": [
    "from tinytim.join import right_join\n",
    "\n",
    "left = {'id': ['a', 'c', 'd', 'f'], 'x': [33, 44, 55, 66]}\n",
    "right = {'id': ['a', 'b', 'c', 'd'], 'y': [11, 22, 33, 44]}\n",
    "right_join(left, right, 'id')"
   ]
  }
 ],
 "metadata": {
  "kernelspec": {
   "display_name": "Python 3 (ipykernel)",
   "language": "python",
   "name": "python3"
  },
  "language_info": {
   "codemirror_mode": {
    "name": "ipython",
    "version": 3
   },
   "file_extension": ".py",
   "mimetype": "text/x-python",
   "name": "python",
   "nbconvert_exporter": "python",
   "pygments_lexer": "ipython3",
   "version": "3.10.6"
  }
 },
 "nbformat": 4,
 "nbformat_minor": 5
}
